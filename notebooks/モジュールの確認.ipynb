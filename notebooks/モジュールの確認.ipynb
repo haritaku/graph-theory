{
 "cells": [
  {
   "cell_type": "code",
   "execution_count": 1,
   "id": "6858da2b-26be-4786-90f0-561ef4b4b8c6",
   "metadata": {},
   "outputs": [],
   "source": [
    "import numpy as np\n",
    "import networkx as nx\n",
    "from graph_theory.utils import plot_graph, incicence2adjacency, exists_graph\n",
    "import matplotlib.pyplot as plt\n",
    "from copy import deepcopy"
   ]
  },
  {
   "cell_type": "markdown",
   "id": "2fa3dff5-e9d1-4541-99d6-a0719c678ef3",
   "metadata": {},
   "source": [
    "# グラフの描画"
   ]
  },
  {
   "cell_type": "code",
   "execution_count": 2,
   "id": "67355269-12df-4d7d-a846-8637b85bc579",
   "metadata": {},
   "outputs": [],
   "source": [
    "adj_arr = np.array([[0, 1, 1, 2, 0],\n",
    "                    [1, 0, 0, 0, 1],\n",
    "                    [1, 0, 0, 1, 1],\n",
    "                    [2, 0, 1, 0, 0],\n",
    "                    [0, 1, 1, 0, 0]\n",
    "                   ])"
   ]
  },
  {
   "cell_type": "code",
   "execution_count": 3,
   "id": "d3243956-cc24-47ed-8f32-25bf3181619e",
   "metadata": {},
   "outputs": [],
   "source": [
    "graph = nx.from_numpy_matrix(\n",
    "    np.triu(adj_arr), parallel_edges=True, create_using=nx.MultiGraph())"
   ]
  },
  {
   "cell_type": "code",
   "execution_count": 4,
   "id": "925a9115-a5d3-45bd-bb44-0d9f1e8e83cd",
   "metadata": {},
   "outputs": [
    {
     "data": {
      "image/png": "[encoded data removed]",
      "text/plain": [
       "<Figure size 432x288 with 1 Axes>"
      ]
     },
     "metadata": {},
     "output_type": "display_data"
    }
   ],
   "source": [
    "plot_graph(graph)"
   ]
  },
  {
   "cell_type": "markdown",
   "id": "2e2ca684-47cc-4f70-bee1-b2c6aacd1069",
   "metadata": {},
   "source": [
    "# 接続行列 to 隣接行列"
   ]
  },
  {
   "cell_type": "code",
   "execution_count": 5,
   "id": "416ee465-aadf-4bf3-bfb4-24324aaf15cb",
   "metadata": {},
   "outputs": [
    {
     "data": {
      "text/plain": [
       "array([[0., 1., 0., 1.],\n",
       "       [1., 0., 1., 2.],\n",
       "       [0., 1., 0., 1.],\n",
       "       [1., 2., 1., 0.]])"
      ]
     },
     "execution_count": 5,
     "metadata": {},
     "output_type": "execute_result"
    }
   ],
   "source": [
    "inc_arr = np.array([\n",
    "    [1, 0, 0, 1, 0, 0],\n",
    "    [1, 1, 0, 0, 1, 1],\n",
    "    [0, 1, 1, 0, 0, 0],\n",
    "    [0, 0, 1, 1, 1, 1]\n",
    "])\n",
    "incicence2adjacency(inc_arr)"
   ]
  },
  {
   "cell_type": "markdown",
   "id": "250fef0a-810d-46bf-84a0-ad47f990a5ce",
   "metadata": {},
   "source": [
    "# エルデシュガライの定理"
   ]
  },
  {
   "cell_type": "code",
   "execution_count": 6,
   "id": "2e16a936-7a94-4f14-a4a5-80611ba88675",
   "metadata": {},
   "outputs": [],
   "source": [
    "a = [3, 3, 5, 5, 5, 5]\n",
    "b = [2, 3, 3, 4, 5, 5]"
   ]
  },
  {
   "cell_type": "code",
   "execution_count": 7,
   "id": "8e8813af-71fd-40cc-8a67-92aa19998689",
   "metadata": {},
   "outputs": [
    {
     "name": "stdout",
     "output_type": "stream",
     "text": [
      "When k=4, false [20 > 12 + 6].\n"
     ]
    },
    {
     "data": {
      "text/plain": [
       "False"
      ]
     },
     "execution_count": 7,
     "metadata": {},
     "output_type": "execute_result"
    }
   ],
   "source": [
    "exists_graph(a)"
   ]
  },
  {
   "cell_type": "code",
   "execution_count": 8,
   "id": "a21cf444-9109-4782-b260-4f848e4abe15",
   "metadata": {},
   "outputs": [
    {
     "data": {
      "text/plain": [
       "True"
      ]
     },
     "execution_count": 8,
     "metadata": {},
     "output_type": "execute_result"
    }
   ],
   "source": [
    "exists_graph(b)"
   ]
  },
  {
   "cell_type": "code",
   "execution_count": null,
   "id": "6ab10b70-2ce9-4d24-9289-d522bd2b9886",
   "metadata": {},
   "outputs": [],
   "source": []
  }
 ],
 "metadata": {
  "kernelspec": {
   "display_name": "Python 3",
   "language": "python",
   "name": "python3"
  },
  "language_info": {
   "codemirror_mode": {
    "name": "ipython",
    "version": 3
   },
   "file_extension": ".py",
   "mimetype": "text/x-python",
   "name": "python",
   "nbconvert_exporter": "python",
   "pygments_lexer": "ipython3",
   "version": "3.8.6"
  }
 },
 "nbformat": 4,
 "nbformat_minor": 5
}
